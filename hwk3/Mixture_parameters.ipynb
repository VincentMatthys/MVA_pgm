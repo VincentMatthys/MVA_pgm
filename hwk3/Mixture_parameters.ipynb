{
 "cells": [
  {
   "cell_type": "code",
   "execution_count": 64,
   "metadata": {},
   "outputs": [],
   "source": [
    "import numpy as np\n",
    "import pandas as pd\n",
    "import matplotlib.pyplot as plt\n",
    "import tqdm"
   ]
  },
  {
   "cell_type": "code",
   "execution_count": 38,
   "metadata": {},
   "outputs": [
    {
     "name": "stdout",
     "output_type": "stream",
     "text": [
      "The autoreload extension is already loaded. To reload it, use:\n",
      "  %reload_ext autoreload\n"
     ]
    }
   ],
   "source": [
    "%matplotlib inline\n",
    "%load_ext autoreload\n",
    "%autoreload 2\n",
    "%precision %.5f\n",
    "plt.rcParams['xtick.labelsize'] = 30\n",
    "plt.rcParams['ytick.labelsize'] = 30\n",
    "plt.rc('text', usetex=True)\n",
    "plt.rc('font',**{'family':'serif','serif':['Palatino']})"
   ]
  },
  {
   "cell_type": "markdown",
   "metadata": {},
   "source": [
    "# Tools"
   ]
  },
  {
   "cell_type": "code",
   "execution_count": 29,
   "metadata": {},
   "outputs": [],
   "source": [
    "from tools.graphics import as_si, make_grid, plot_data, plot_frontiere, plot_cov_ellipse\n",
    "from tools.mixture import K_means, GM"
   ]
  },
  {
   "cell_type": "markdown",
   "metadata": {},
   "source": [
    "# Constants"
   ]
  },
  {
   "cell_type": "code",
   "execution_count": 5,
   "metadata": {},
   "outputs": [],
   "source": [
    "DATA_DIR = \"data/\"\n",
    "COLS = [\"red\", \"blue\",\"green\", \"orange\", \"black\", \"cyan\"]\n",
    "MARKS = [\"^\",\"+\",\"*\",\"o\",\"x\",\".\"]"
   ]
  },
  {
   "cell_type": "markdown",
   "metadata": {},
   "source": [
    "## Reading data"
   ]
  },
  {
   "cell_type": "code",
   "execution_count": 6,
   "metadata": {},
   "outputs": [],
   "source": [
    "D = {}\n",
    "for t in [\"data\", \"test\"]:\n",
    "    D[t] = pd.read_csv(DATA_DIR + \"EMGaussian\" + \".\" + t, sep = ' ', names = [\"x1\", \"x2\"])"
   ]
  },
  {
   "cell_type": "markdown",
   "metadata": {},
   "source": [
    "# Saving mixutre parameters"
   ]
  },
  {
   "cell_type": "code",
   "execution_count": 96,
   "metadata": {
    "scrolled": true
   },
   "outputs": [
    {
     "name": "stderr",
     "output_type": "stream",
     "text": [
      "100%|██████████| 10000/10000 [03:43<00:00, 44.84it/s]"
     ]
    },
    {
     "name": "stdout",
     "output_type": "stream",
     "text": [
      "Moyenne de vraissemblance : -2328.5539929712804 - et écart-type : 6.721229175046616\n",
      "----- Centroide 1 -----\n",
      "moyenne  : [-3.0613271  -3.53394026]\n",
      "écart-type : [ 0.0133114   0.01252042]\n",
      "----- Centroide 1 -----\n",
      "moyenne  : [-2.04756726  4.16195654]\n",
      "écart-type : [ 0.11140972  0.09011193]\n",
      "----- Centroide 1 -----\n",
      "moyenne  : [ 3.90500456  3.85260359]\n",
      "écart-type : [ 0.6250401   0.12733416]\n",
      "----- Centroide 1 -----\n",
      "moyenne  : [ 3.80065165 -3.71048669]\n",
      "écart-type : [ 0.0089416   0.53683121]\n"
     ]
    },
    {
     "name": "stderr",
     "output_type": "stream",
     "text": [
      "\n"
     ]
    }
   ],
   "source": [
    "n_iter = 10000\n",
    "\n",
    "# Train data\n",
    "datax = D['data'].as_matrix()\n",
    "K = 4\n",
    "\n",
    "# List to save results\n",
    "likelihood = []\n",
    "Cen = {0 : [], 1 : [], 2 : [], 3 : []}\n",
    "Sigma = {0 : [], 1 : [], 2 : [], 3 : []}\n",
    "\n",
    "# Iterate over n_iter times\n",
    "for k in tqdm(range(int(n_iter))):\n",
    "    classifier = GM(K)\n",
    "    # Fit the classifier\n",
    "    classifier.fit(datax)\n",
    "    A = classifier.q.argmax(axis = 0).astype(int)\n",
    "    C = classifier.mu.reshape(K, 2)\n",
    "    for i,j in enumerate(np.arctan2(C[:, 0], C[:, 1]).argsort()):\n",
    "        Cen[i].append(C[j])\n",
    "        Sigma[i].append(classifier.sigma[j])\n",
    "        \n",
    "    likelihood.append(classifier.L[-1])\n",
    "\n",
    "print (\"Moyenne de vraissemblance : {} - et écart-type : {}\"\\\n",
    "       .format(np.mean(likelihood),np.std(likelihood)))\n",
    "for k in Cen.keys():\n",
    "    Cen[k] = np.array(Cen[k])\n",
    "    print (\"----- Centroide 1 -----\")\n",
    "    print (\"moyenne  : {}\\nécart-type : {}\"\\\n",
    "       .format(np.mean(Cen[k], axis = 0), np.std(Cen[k], axis = 0)))"
   ]
  },
  {
   "cell_type": "code",
   "execution_count": 114,
   "metadata": {},
   "outputs": [],
   "source": [
    "# Better result = better likelihood\n",
    "best = np.array(likelihood).argmax()\n",
    "\n",
    "# Dictionary of best parameters\n",
    "best_params = {\"mu\" : np.array([Cen[i][best] for i in Cen.keys()]),\n",
    "               \"sigma\": np.array([Sigma[i][best] for i in Sigma.keys()])}\n",
    "\n",
    "# Save in binary file\n",
    "np.save(\"mixture_parameters\", best_params)"
   ]
  },
  {
   "cell_type": "markdown",
   "metadata": {},
   "source": [
    "# Load parameters"
   ]
  },
  {
   "cell_type": "code",
   "execution_count": 120,
   "metadata": {},
   "outputs": [
    {
     "data": {
      "text/plain": [
       "{'mu': array([[-3.05990034, -3.53259873],\n",
       "        [-2.03407708,  4.1728797 ],\n",
       "        [ 3.9808156 ,  3.83153862],\n",
       "        [ 3.79964793, -3.77776709]]),\n",
       " 'sigma': array([[[  6.25185283,   6.0599484 ],\n",
       "         [  6.0599484 ,   6.19158314]],\n",
       " \n",
       "        [[  2.90573511,   0.2077826 ],\n",
       "         [  0.2077826 ,   2.75669466]],\n",
       " \n",
       "        [[  0.20861629,   0.27747176],\n",
       "         [  0.27747176,  11.97735281]],\n",
       " \n",
       "        [[  0.91297431,   0.05584533],\n",
       "         [  0.05584533,   1.9066195 ]]])}"
      ]
     },
     "execution_count": 120,
     "metadata": {},
     "output_type": "execute_result"
    }
   ],
   "source": [
    "np.load(\"mixture_parameters.npy\").item()"
   ]
  },
  {
   "cell_type": "markdown",
   "metadata": {},
   "source": [
    "# 2 nodes model for debugging of hwk3"
   ]
  },
  {
   "cell_type": "code",
   "execution_count": 183,
   "metadata": {},
   "outputs": [],
   "source": [
    "from tools.mixture import gen_arti"
   ]
  },
  {
   "cell_type": "code",
   "execution_count": 224,
   "metadata": {},
   "outputs": [
    {
     "data": {
      "image/png": "[encoded data removed]",
      "text/plain": [
       "<matplotlib.figure.Figure at 0x7fe5185dfa90>"
      ]
     },
     "metadata": {},
     "output_type": "display_data"
    }
   ],
   "source": [
    "d = gen_arti(data_type = 0,\n",
    "             cov2 = np.array([[0.1, 0.5], [0.5, 4]]))\n",
    "dx = d[0]\n",
    "\n",
    "plt.scatter(dx[:, 0], dx[:, 1], color = np.array(COLS)[d[1].astype(int)]);\n",
    "np.save(d)"
   ]
  },
  {
   "cell_type": "code",
   "execution_count": null,
   "metadata": {},
   "outputs": [],
   "source": [
    "df = pd.DataFrame(data = dx, columns = [\"x\", \"y\"])\n",
    "df.to_csv(\"double_mixture_data.csv\", sep = ' ', header = False, index = False)\n",
    "df"
   ]
  },
  {
   "cell_type": "code",
   "execution_count": null,
   "metadata": {},
   "outputs": [
    {
     "name": "stderr",
     "output_type": "stream",
     "text": [
      " 65%|██████▍   | 6464/10000 [01:03<00:34, 101.66it/s]"
     ]
    }
   ],
   "source": [
    "n_iter = 10000\n",
    "\n",
    "# Train data\n",
    "datax = dx\n",
    "K = 2\n",
    "\n",
    "# List to save results\n",
    "likelihood = []\n",
    "Cen = {key: [] for key in range(K)}\n",
    "Sigma = {key: [] for key in range(K)}\n",
    "\n",
    "# Iterate over n_iter times\n",
    "for k in tqdm(range(int(n_iter))):\n",
    "    classifier = GM(K)\n",
    "    # Fit the classifier\n",
    "    classifier.fit(datax)\n",
    "    A = classifier.q.argmax(axis = 0).astype(int)\n",
    "    C = classifier.mu.reshape(K, 2)\n",
    "    for i,j in enumerate(np.arctan2(C[:, 0], C[:, 1]).argsort()):\n",
    "        Cen[i].append(C[j])\n",
    "        Sigma[i].append(classifier.sigma[j])\n",
    "        \n",
    "    likelihood.append(classifier.L[-1])\n",
    "\n",
    "print (\"Moyenne de vraissemblance : {} - et écart-type : {}\"\\\n",
    "       .format(np.mean(likelihood),np.std(likelihood)))\n",
    "for k in Cen.keys():\n",
    "    Cen[k] = np.array(Cen[k])\n",
    "    print (\"----- Centroide 1 -----\")\n",
    "    print (\"moyenne  : {}\\nécart-type : {}\"\\\n",
    "       .format(np.mean(Cen[k], axis = 0), np.std(Cen[k], axis = 0)))"
   ]
  },
  {
   "cell_type": "code",
   "execution_count": null,
   "metadata": {},
   "outputs": [],
   "source": [
    "# Better result = better likelihood\n",
    "best = np.array(likelihood).argmax()\n",
    "\n",
    "# Dictionary of best parameters\n",
    "best_params = {\"mu\" : np.array([Cen[i][best] for i in Cen.keys()]),\n",
    "               \"sigma\": np.array([Sigma[i][best] for i in Sigma.keys()])}\n",
    "\n",
    "# Save in binary file\n",
    "np.save(\"double_mixture_parameters\", best_params)"
   ]
  },
  {
   "cell_type": "code",
   "execution_count": null,
   "metadata": {},
   "outputs": [],
   "source": []
  }
 ],
 "metadata": {
  "kernelspec": {
   "display_name": "Python 3",
   "language": "python",
   "name": "python3"
  },
  "language_info": {
   "codemirror_mode": {
    "name": "ipython",
    "version": 3
   },
   "file_extension": ".py",
   "mimetype": "text/x-python",
   "name": "python",
   "nbconvert_exporter": "python",
   "pygments_lexer": "ipython3",
   "version": "3.5.2"
  }
 },
 "nbformat": 4,
 "nbformat_minor": 2
}
